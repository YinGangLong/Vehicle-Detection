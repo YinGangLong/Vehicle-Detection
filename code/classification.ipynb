{
 "cells": [
  {
   "cell_type": "markdown",
   "metadata": {},
   "source": [
    "# Imports"
   ]
  },
  {
   "cell_type": "code",
   "execution_count": 1,
   "metadata": {
    "scrolled": true
   },
   "outputs": [
    {
     "name": "stderr",
     "output_type": "stream",
     "text": [
      "/home/parallels/anaconda3/lib/python3.6/site-packages/h5py/__init__.py:36: FutureWarning: Conversion of the second argument of issubdtype from `float` to `np.floating` is deprecated. In future, it will be treated as `np.float64 == np.dtype(float).type`.\n",
      "  from ._conv import register_converters as _register_converters\n"
     ]
    }
   ],
   "source": [
    "import numpy as np\n",
    "import tensorflow as tf"
   ]
  },
  {
   "cell_type": "markdown",
   "metadata": {},
   "source": [
    "# use preprocess function from evaluation preparation"
   ]
  },
  {
   "cell_type": "code",
   "execution_count": 2,
   "metadata": {},
   "outputs": [],
   "source": [
    "def preprocess_for_eval(image, height, width,\n",
    "                        central_fraction=0.875, scope=None):\n",
    "    \"\"\"Prepare one image for evaluation.\n",
    "\n",
    "    If height and width are specified it would output an image with that size by\n",
    "    applying resize_bilinear.\n",
    "\n",
    "    If central_fraction is specified it would crop the central fraction of the\n",
    "    input image.\n",
    "\n",
    "    Args:\n",
    "        image: 3-D Tensor of image. If dtype is tf.float32 then the range should be\n",
    "        [0, 1], otherwise it would converted to tf.float32 assuming that the range\n",
    "        is [0, MAX], where MAX is largest positive representable number for\n",
    "        int(8/16/32) data type (see `tf.image.convert_image_dtype` for details).\n",
    "        height: integer\n",
    "        width: integer\n",
    "        central_fraction: Optional Float, fraction of the image to crop.\n",
    "        scope: Optional scope for name_scope.\n",
    "    Returns:\n",
    "        3-D float Tensor of prepared image.\n",
    "    \"\"\"\n",
    "    with tf.name_scope(scope, 'eval_image', [image, height, width]):\n",
    "        if image.dtype != tf.float32:\n",
    "            image = tf.image.convert_image_dtype(image, dtype=tf.float32)\n",
    "        # Crop the central region of the image with an area containing 87.5% of\n",
    "        # the original image.\n",
    "        if central_fraction:\n",
    "            image = tf.image.central_crop(image, central_fraction=central_fraction)\n",
    "\n",
    "        if height and width:\n",
    "        # Resize the image to the specified height and width.\n",
    "            image = tf.expand_dims(image, 0)\n",
    "            image = tf.image.resize_bilinear(image, [height, width],\n",
    "                                             align_corners=False)\n",
    "            image = tf.squeeze(image, [0])\n",
    "        image = tf.subtract(image, 0.5)\n",
    "        image = tf.multiply(image, 2.0)\n",
    "        return image"
   ]
  },
  {
   "cell_type": "markdown",
   "metadata": {},
   "source": [
    "# Load the model and make inference"
   ]
  },
  {
   "cell_type": "code",
   "execution_count": 3,
   "metadata": {},
   "outputs": [],
   "source": [
    "# Load a (frozen) Tensorflow model into memory.\n",
    "with open('./pj_vehicle_inception_v4_freeze.pb', 'rb') as f:\n",
    "    graph_def = tf.GraphDef()\n",
    "    graph_def.ParseFromString(f.read())\n",
    "    _ = tf.import_graph_def(graph_def, name='')\n",
    "\n",
    "# read a image into a numpy array\n",
    "image_path = './test.jpg'\n",
    "image_file = tf.read_file(image_path)\n",
    "image = tf.image.decode_jpeg(image_file)\n",
    "# prepare the image into a fixed size\n",
    "image_preprocessed = preprocess_for_eval(image, 299, 299)\n",
    "image_np_expanded = np.expand_dims(tf.Session().run(image_preprocessed), axis=0)\n",
    "# make inference\n",
    "sess = tf.Session()\n",
    "softmax_tensor = sess.graph.get_tensor_by_name('InceptionV4/Logits/Predictions:0')\n",
    "predictions = sess.run(softmax_tensor, feed_dict={'input:0': image_np_expanded})\n",
    "predictions = np.squeeze(predictions)"
   ]
  },
  {
   "cell_type": "markdown",
   "metadata": {},
   "source": [
    "# output the class index and score"
   ]
  },
  {
   "cell_type": "markdown",
   "metadata": {},
   "source": [
    "### result for nocar.jpg"
   ]
  },
  {
   "cell_type": "code",
   "execution_count": 4,
   "metadata": {},
   "outputs": [
    {
     "data": {
      "text/plain": [
       "356"
      ]
     },
     "execution_count": 4,
     "metadata": {},
     "output_type": "execute_result"
    }
   ],
   "source": [
    "np.where(predictions == np.max(predictions))[0][0]"
   ]
  },
  {
   "cell_type": "code",
   "execution_count": 5,
   "metadata": {},
   "outputs": [
    {
     "data": {
      "text/plain": [
       "0.18913023"
      ]
     },
     "execution_count": 5,
     "metadata": {},
     "output_type": "execute_result"
    }
   ],
   "source": [
    "np.max(predictions)"
   ]
  },
  {
   "cell_type": "markdown",
   "metadata": {},
   "source": [
    "### result for test.jpg"
   ]
  },
  {
   "cell_type": "code",
   "execution_count": 4,
   "metadata": {
    "scrolled": true
   },
   "outputs": [
    {
     "data": {
      "text/plain": [
       "349"
      ]
     },
     "execution_count": 4,
     "metadata": {},
     "output_type": "execute_result"
    }
   ],
   "source": [
    "np.where(predictions == np.max(predictions))[0][0]"
   ]
  },
  {
   "cell_type": "code",
   "execution_count": 5,
   "metadata": {},
   "outputs": [
    {
     "data": {
      "text/plain": [
       "0.90081704"
      ]
     },
     "execution_count": 5,
     "metadata": {},
     "output_type": "execute_result"
    }
   ],
   "source": [
    "np.max(predictions)"
   ]
  },
  {
   "cell_type": "code",
   "execution_count": null,
   "metadata": {},
   "outputs": [],
   "source": []
  }
 ],
 "metadata": {
  "kernelspec": {
   "display_name": "Python 3",
   "language": "python",
   "name": "python3"
  },
  "language_info": {
   "codemirror_mode": {
    "name": "ipython",
    "version": 3
   },
   "file_extension": ".py",
   "mimetype": "text/x-python",
   "name": "python",
   "nbconvert_exporter": "python",
   "pygments_lexer": "ipython3",
   "version": "3.6.4"
  }
 },
 "nbformat": 4,
 "nbformat_minor": 2
}
